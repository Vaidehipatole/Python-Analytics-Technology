{
 "cells": [
  {
   "cell_type": "markdown",
   "metadata": {},
   "source": [
    "# Week 4 Assignment"
   ]
  },
  {
   "cell_type": "markdown",
   "metadata": {},
   "source": [
    "## Assignment Details\n",
    "The `1962_2006_walmart_store_openings.csv` file is available here:\n",
    "https://raw.githubusercontent.com/plotly/datasets/master/1962_2006_walmart_store_openings.csv\n",
    "\n",
    "It contains information on Walmart store openings between the years 1962-2006. Some explanations on the meaning of variable names:\n",
    "\n",
    "- `storenum`: the unique store number (storenumber is an id, not a count)\t\n",
    "- `OPENDATE`: the date the original store was opened\n",
    "- `date_super`: the date the store became a super store\n",
    "- `conversion`: whether the original store was converted to a super store\n",
    "- `STRCITY`: the name of the city where the store is located\n",
    "- `STRSTATE`: the state where the store is located\n",
    "\n",
    "When answering the questions below, please make sure to examine the dataset carefully and understand if it needs further data aggregation, cleaning, or wrangling before you calcualte the answers to your questions."
   ]
  },
  {
   "cell_type": "markdown",
   "metadata": {},
   "source": [
    "#### [GRADED  TASK 1]\n",
    "Import the dataset and ensure all columns of data are properly read into an appropriate data structure."
   ]
  },
  {
   "cell_type": "code",
   "execution_count": 6,
   "metadata": {},
   "outputs": [
    {
     "name": "stdout",
     "output_type": "stream",
     "text": [
      "   storenum OPENDATE date_super  conversion  st  county  \\\n",
      "0         1   7/1/62     3/1/97         1.0   5       7   \n",
      "1         2   8/1/64     3/1/96         1.0   5       9   \n",
      "2         4   8/1/65     3/1/02         1.0   5       7   \n",
      "3         8  10/1/67     3/1/93         1.0   5      29   \n",
      "4         7  10/1/67        NaN         NaN   5     119   \n",
      "5        10   7/1/68     3/1/98         1.0  40      21   \n",
      "6        13  11/1/68     3/1/96         1.0  29      97   \n",
      "7        12   7/1/68     3/1/94         1.0  40     131   \n",
      "8        11   3/1/68    2/20/02         1.0   5       5   \n",
      "9         9   3/1/68     3/1/00         1.0  29     143   \n",
      "\n",
      "               STREETADDR            STRCITY STRSTATE  ZIPCODE   type_store  \\\n",
      "0        2110 WEST WALNUT             Rogers       AR    72756  Supercenter   \n",
      "1        1417 HWY 62/65 N           Harrison       AR    72601  Supercenter   \n",
      "2       2901 HWY 412 EAST     Siloam Springs       AR    72761  Supercenter   \n",
      "3   1621 NORTH BUSINESS 9          Morrilton       AR    72110  Supercenter   \n",
      "4  3801 CAMP ROBINSON RD.  North Little Rock       AR    72118     Wal-Mart   \n",
      "5     2020 SOUTH MUSKOGEE          Tahlequah       OK    74464  Supercenter   \n",
      "6          2705 GRAND AVE           Carthage       MO    64836  Supercenter   \n",
      "7    1500 LYNN RIGGS BLVD          Claremore       OK    74017  Supercenter   \n",
      "8       65 WAL-MART DRIVE      Mountain Home       AR    72653  Supercenter   \n",
      "9         1303 SOUTH MAIN           Sikeston       MO    63801  Supercenter   \n",
      "\n",
      "         LAT       LON  MONTH  DAY  YEAR  \n",
      "0  36.342235 -94.07141      7    1  1962  \n",
      "1  36.236984 -93.09345      8    1  1964  \n",
      "2  36.179905 -94.50208      8    1  1965  \n",
      "3  35.156491 -92.75858     10    1  1967  \n",
      "4  34.813269 -92.30229     10    1  1967  \n",
      "5  35.923658 -94.97185      7    1  1968  \n",
      "6  37.168985 -94.31164     11    1  1968  \n",
      "7  36.327143 -95.61192      7    1  1968  \n",
      "8  36.329026 -92.35781      3    1  1968  \n",
      "9  36.891163 -89.58355      3    1  1968  \n"
     ]
    }
   ],
   "source": [
    "# Import required libraries\n",
    "import pandas as pd\n",
    "import matplotlib.pyplot as plt\n",
    "from dateutil.relativedelta import relativedelta\n",
    "# read the data\n",
    "df = pd.read_csv(\"https://raw.githubusercontent.com/plotly/datasets/master/1962_2006_walmart_store_openings.csv\")\n",
    "\n",
    "s = {\"AL\":\"Alabama\",\"AK\":\"Alaska\",\"AZ\":\"Arizona\",\"AR\":\"Arkansas\",\"CA\":\"California\",\n",
    "     \"CO\":\"Colorado\",\"CT\":\"Connecticut\",\"DE\":\"Delaware\",\"FL\":\"Florida\",\"GA\":\"Georgia\",\n",
    "     \"HI\":\"Hawaii\",\"ID\":\"Idaho\",\"IL\":\"Illinois\",\"IN\":\"Indiana\",\"IA\":\"Iowa\",\"KS\":\"Kansas\",\n",
    "     \"KY\":\"Kentucky\",\"LA\":\"Louisiana\",\"ME\":\"Maine\",\"MD\":\"Maryland\",\"MA\":\"Massachusetts\",\n",
    "     \"MI\":\"Michigan\",\"MN\":\"Minnesota\",\"MS\":\"Mississippi\",\"MO\":\"Missouri\",\"MT\":\"Montana\",\n",
    "     \"NE\":\"Nebraska\",\"NV\":\"Nevada\",\"NH\":\"New Hampshire\",\"NJ\":\"New Jersey\",\"NM\":\"New Mexico\",\n",
    "     \"NY\":\"New York\",\"NC\":\"North Carolina\",\"ND\":\"North Dakota\",\"OH\":\"Ohio\",\"OK\":\"Oklahoma\",\n",
    "     \"OR\":\"Oregon\",\"PA\":\"Pennsylvania\",\"RI\":\"Rhode Island\",\"SC\":\"South Carolina\",\"SD\":\"South Dakota\",\n",
    "     \"TN\":\"Tennessee\",\"TX\":\"Texas\",\"UT\":\"Utah\",\"VT\":\"Vermont\",\"VA\":\"Virginia\",\"WA\":\"Washington\",\n",
    "     \"WV\":\"West Virginia\",\"WI\":\"Wisconsin\",\"WY\":\"Wyoming\"}\n",
    "# Print the data\n",
    "print(df.head(10))"
   ]
  },
  {
   "cell_type": "markdown",
   "metadata": {},
   "source": [
    "#### [GRADED  TASK 2]\n",
    "\n",
    "- which state has the `7th highest` total number of Walmart super stores?\n",
    "- which city has the `5th highest` total number of Walmart stores (super stores and regular stores combined)?"
   ]
  },
  {
   "cell_type": "code",
   "execution_count": 7,
   "metadata": {},
   "outputs": [
    {
     "name": "stdout",
     "output_type": "stream",
     "text": [
      "The state Alabama(\"AL\") with 76 superstores has the 7th highest total number of Walmart superstores \n",
      "The state Ohio(\"OH\") with 124 superstores has the 5th highest total number of Walmart stores(Both superstores and regular stores) \n"
     ]
    }
   ],
   "source": [
    "states_s,storess = tuple(df[df[\"type_store\"]==\"Supercenter\"].groupby(\"STRSTATE\").agg(\"count\")[\"storenum\"].sort_values(ascending=False).reset_index().iloc[6,:])\n",
    "print(f'The state {s[states_s]}(\"{states_s}\") with {storess} superstores has the 7th highest total number of Walmart superstores ')\n",
    "\n",
    "\n",
    "states_s,storess = tuple(df.groupby(\"STRSTATE\").agg(\"count\")[\"storenum\"].sort_values(ascending=False).reset_index().iloc[4,:])\n",
    "print(f'The state {s[states_s]}(\"{states_s}\") with {storess} superstores has the 5th highest total number of Walmart stores(Both superstores and regular stores) ')\n"
   ]
  },
  {
   "cell_type": "markdown",
   "metadata": {},
   "source": [
    "#### [GRADED  TASK 3]\n",
    "Write a function that takes as arguments:\n",
    "\n",
    "1. the data frame you generated above from importing the Walmart dataset\n",
    "2. a state abbreviaton (e.g. `AR`)\n",
    "\n",
    "and, then, the function returns a pandas Data Frame with 2 columns: \n",
    "1. a column called `date` that contains the date (note that date must be properly ordered)\n",
    "2. a column called `cumsum` that contains the `cumulative` (i.e. `running`) sum of the number of stores over time opened in that state\n"
   ]
  },
  {
   "cell_type": "code",
   "execution_count": 3,
   "metadata": {},
   "outputs": [
    {
     "name": "stdout",
     "output_type": "stream",
     "text": [
      " ENTER THE STATE NAME THAT YOU WANT TO FIND THE CUMULATIVE SUM  AR\n",
      "OPENDATE\n",
      "1962-07-01     1\n",
      "1964-08-01     2\n",
      "1965-08-01     3\n",
      "1967-10-01     5\n",
      "1968-03-01     6\n",
      "              ..\n",
      "2003-03-19    77\n",
      "2004-01-21    78\n",
      "2004-08-18    79\n",
      "2004-10-27    80\n",
      "2005-05-18    81\n",
      "Name: storenum, Length: 68, dtype: int64\n"
     ]
    }
   ],
   "source": [
    "# Your answer to Graded Task 3 here:\n",
    "\n",
    "def cumulative(df,state):\n",
    "  check_df = df.copy()\n",
    "  # Converting state to datetime\n",
    "  check_df[\"OPENDATE\"] = pd.to_datetime(check_df[\"OPENDATE\"],format=\"%m/%d/%y\")\n",
    "    \n",
    "  # Calibrate date to appropriate date range\n",
    "  check_df[\"OPENDATE\"] = check_df[\"OPENDATE\"].apply(lambda x:x if x.year<=2021 else x-relativedelta(years=100))\n",
    "# return cummulative sum by grouping the dates, getting the counts and take cummulative sum out of it\n",
    "  return check_df[check_df[\"STRSTATE\"]==state].groupby(\"OPENDATE\")[\"storenum\"].agg(\"count\").cumsum()\n",
    "\n",
    "IN =input(\" ENTER THE STATE NAME THAT YOU WANT TO FIND THE CUMULATIVE SUM  \")\n",
    "res_df = cumulative(df,IN)\n",
    "print(res_df)\n",
    "\n"
   ]
  },
  {
   "cell_type": "markdown",
   "metadata": {},
   "source": [
    "#### [GRADED  TASK 4]\n",
    "Using any of the three plotting libraries we discussed (`matplotlib`, `seaborn`, or `bokeh`), plot the time series of cumulative store count over time in the state of Idaho (ID)."
   ]
  },
  {
   "cell_type": "code",
   "execution_count": 4,
   "metadata": {},
   "outputs": [
    {
     "data": {
      "image/png": "[encoded data removed]",
      "text/plain": [
       "<Figure size 432x288 with 1 Axes>"
      ]
     },
     "metadata": {
      "needs_background": "light"
     },
     "output_type": "display_data"
    }
   ],
   "source": [
    "\n",
    "RR = cumulative(df,\"ID\")\n",
    "plt.plot(RR,label=\"Cummulative Sum\",color = 'm',marker='o')\n",
    "plt.xlabel(\"Years\",fontsize=14)\n",
    "plt.ylabel(\"Numbers\",fontsize=14)\n",
    "plt.title(\"Plot of Cummulative sum of stores opened in {s['ID']}\")\n",
    "plt.grid(True)\n",
    "plt.legend()\n",
    "plt.show()\n",
    "\n",
    "\n",
    "\n",
    "\n",
    "\n",
    "\n"
   ]
  },
  {
   "cell_type": "markdown",
   "metadata": {},
   "source": [
    "#### [GRADED  TASK 5]\n",
    "Using any of the three plotting libraries we discussed (`matplotlib`, `seaborn`, or `bokeh`), plot a bar chart that shows the `total` number of Walmart stores in each of the states that directly border the state of Utah (Arkansas (AR))."
   ]
  },
  {
   "cell_type": "code",
   "execution_count": 5,
   "metadata": {},
   "outputs": [
    {
     "data": {
      "image/png": "[encoded data removed]",
      "text/plain": [
       "<Figure size 1080x720 with 1 Axes>"
      ]
     },
     "metadata": {
      "needs_background": "light"
     },
     "output_type": "display_data"
    }
   ],
   "source": [
    "\n",
    "RR = df[(df[\"STRSTATE\"].isin([\"ID\",\"NH\",\"AR\",\"WY\",\"NM\",\"CO\"]))].groupby(\"STRSTATE\")[\"storenum\"].agg(\"count\")\n",
    "plt.figure(figsize=(15,10))\n",
    "plt.bar(list(map(lambda x:s[x]+f'({x})',RR.index)),list(RR),color = 'r')\n",
    "plt.xlabel(\"States\")\n",
    "plt.ylabel(\"Total Number of Stores\")\n",
    "plt.grid(True)\n",
    "plt.show()"
   ]
  },
  {
   "cell_type": "code",
   "execution_count": null,
   "metadata": {},
   "outputs": [],
   "source": []
  }
 ],
 "metadata": {
  "kernelspec": {
   "display_name": "Python 3 (ipykernel)",
   "language": "python",
   "name": "python3"
  },
  "language_info": {
   "codemirror_mode": {
    "name": "ipython",
    "version": 3
   },
   "file_extension": ".py",
   "mimetype": "text/x-python",
   "name": "python",
   "nbconvert_exporter": "python",
   "pygments_lexer": "ipython3",
   "version": "3.9.7"
  }
 },
 "nbformat": 4,
 "nbformat_minor": 4
}
